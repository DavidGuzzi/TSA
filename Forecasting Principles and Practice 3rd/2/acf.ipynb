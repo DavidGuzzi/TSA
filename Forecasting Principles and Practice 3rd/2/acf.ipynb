{
 "cells": [
  {
   "cell_type": "code",
   "execution_count": 1,
   "metadata": {},
   "outputs": [],
   "source": [
    "import pandas as pd\n",
    "import numpy as np\n",
    "import matplotlib.pyplot as plt"
   ]
  },
  {
   "cell_type": "code",
   "execution_count": 10,
   "metadata": {},
   "outputs": [
    {
     "data": {
      "text/html": [
       "<div>\n",
       "<style scoped>\n",
       "    .dataframe tbody tr th:only-of-type {\n",
       "        vertical-align: middle;\n",
       "    }\n",
       "\n",
       "    .dataframe tbody tr th {\n",
       "        vertical-align: top;\n",
       "    }\n",
       "\n",
       "    .dataframe thead th {\n",
       "        text-align: right;\n",
       "    }\n",
       "</style>\n",
       "<table border=\"1\" class=\"dataframe\">\n",
       "  <thead>\n",
       "    <tr style=\"text-align: right;\">\n",
       "      <th></th>\n",
       "      <th>Quarter</th>\n",
       "      <th>Beer</th>\n",
       "      <th>Tobacco</th>\n",
       "      <th>Bricks</th>\n",
       "      <th>Cement</th>\n",
       "      <th>Electricity</th>\n",
       "      <th>Gas</th>\n",
       "    </tr>\n",
       "  </thead>\n",
       "  <tbody>\n",
       "    <tr>\n",
       "      <th>0</th>\n",
       "      <td>1956 Q1</td>\n",
       "      <td>284</td>\n",
       "      <td>5225.0</td>\n",
       "      <td>189.0</td>\n",
       "      <td>465</td>\n",
       "      <td>3923</td>\n",
       "      <td>5</td>\n",
       "    </tr>\n",
       "    <tr>\n",
       "      <th>1</th>\n",
       "      <td>1956 Q2</td>\n",
       "      <td>213</td>\n",
       "      <td>5178.0</td>\n",
       "      <td>204.0</td>\n",
       "      <td>532</td>\n",
       "      <td>4436</td>\n",
       "      <td>6</td>\n",
       "    </tr>\n",
       "    <tr>\n",
       "      <th>2</th>\n",
       "      <td>1956 Q3</td>\n",
       "      <td>227</td>\n",
       "      <td>5297.0</td>\n",
       "      <td>208.0</td>\n",
       "      <td>561</td>\n",
       "      <td>4806</td>\n",
       "      <td>7</td>\n",
       "    </tr>\n",
       "    <tr>\n",
       "      <th>3</th>\n",
       "      <td>1956 Q4</td>\n",
       "      <td>308</td>\n",
       "      <td>5681.0</td>\n",
       "      <td>197.0</td>\n",
       "      <td>570</td>\n",
       "      <td>4418</td>\n",
       "      <td>6</td>\n",
       "    </tr>\n",
       "    <tr>\n",
       "      <th>4</th>\n",
       "      <td>1957 Q1</td>\n",
       "      <td>262</td>\n",
       "      <td>5577.0</td>\n",
       "      <td>187.0</td>\n",
       "      <td>529</td>\n",
       "      <td>4339</td>\n",
       "      <td>5</td>\n",
       "    </tr>\n",
       "  </tbody>\n",
       "</table>\n",
       "</div>"
      ],
      "text/plain": [
       "   Quarter  Beer  Tobacco  Bricks  Cement  Electricity  Gas\n",
       "0  1956 Q1   284   5225.0   189.0     465         3923    5\n",
       "1  1956 Q2   213   5178.0   204.0     532         4436    6\n",
       "2  1956 Q3   227   5297.0   208.0     561         4806    7\n",
       "3  1956 Q4   308   5681.0   197.0     570         4418    6\n",
       "4  1957 Q1   262   5577.0   187.0     529         4339    5"
      ]
     },
     "execution_count": 10,
     "metadata": {},
     "output_type": "execute_result"
    }
   ],
   "source": [
    "path = r\"C:\\Users\\HP\\OneDrive\\Escritorio\\David Guzzi\\Github\\TSA\\Forecasting Principles and Practice 3rd\\2\\aus_production.csv\"\n",
    "\n",
    "df = pd.read_csv(path)\n",
    "df.head()"
   ]
  },
  {
   "cell_type": "code",
   "execution_count": 11,
   "metadata": {},
   "outputs": [
    {
     "name": "stdout",
     "output_type": "stream",
     "text": [
      "<class 'pandas.core.frame.DataFrame'>\n",
      "RangeIndex: 218 entries, 0 to 217\n",
      "Data columns (total 7 columns):\n",
      " #   Column       Non-Null Count  Dtype  \n",
      "---  ------       --------------  -----  \n",
      " 0   Quarter      218 non-null    object \n",
      " 1   Beer         218 non-null    int64  \n",
      " 2   Tobacco      194 non-null    float64\n",
      " 3   Bricks       198 non-null    float64\n",
      " 4   Cement       218 non-null    int64  \n",
      " 5   Electricity  218 non-null    int64  \n",
      " 6   Gas          218 non-null    int64  \n",
      "dtypes: float64(2), int64(4), object(1)\n",
      "memory usage: 12.1+ KB\n"
     ]
    }
   ],
   "source": [
    "df.info()"
   ]
  },
  {
   "cell_type": "code",
   "execution_count": 12,
   "metadata": {},
   "outputs": [
    {
     "data": {
      "text/html": [
       "<div>\n",
       "<style scoped>\n",
       "    .dataframe tbody tr th:only-of-type {\n",
       "        vertical-align: middle;\n",
       "    }\n",
       "\n",
       "    .dataframe tbody tr th {\n",
       "        vertical-align: top;\n",
       "    }\n",
       "\n",
       "    .dataframe thead th {\n",
       "        text-align: right;\n",
       "    }\n",
       "</style>\n",
       "<table border=\"1\" class=\"dataframe\">\n",
       "  <thead>\n",
       "    <tr style=\"text-align: right;\">\n",
       "      <th></th>\n",
       "      <th>Quarter</th>\n",
       "      <th>Beer</th>\n",
       "      <th>Tobacco</th>\n",
       "      <th>Bricks</th>\n",
       "      <th>Cement</th>\n",
       "      <th>Electricity</th>\n",
       "      <th>Gas</th>\n",
       "      <th>year</th>\n",
       "      <th>Q</th>\n",
       "    </tr>\n",
       "  </thead>\n",
       "  <tbody>\n",
       "    <tr>\n",
       "      <th>0</th>\n",
       "      <td>1956 Q1</td>\n",
       "      <td>284</td>\n",
       "      <td>5225.0</td>\n",
       "      <td>189.0</td>\n",
       "      <td>465</td>\n",
       "      <td>3923</td>\n",
       "      <td>5</td>\n",
       "      <td>1956</td>\n",
       "      <td>Q1</td>\n",
       "    </tr>\n",
       "    <tr>\n",
       "      <th>1</th>\n",
       "      <td>1956 Q2</td>\n",
       "      <td>213</td>\n",
       "      <td>5178.0</td>\n",
       "      <td>204.0</td>\n",
       "      <td>532</td>\n",
       "      <td>4436</td>\n",
       "      <td>6</td>\n",
       "      <td>1956</td>\n",
       "      <td>Q2</td>\n",
       "    </tr>\n",
       "    <tr>\n",
       "      <th>2</th>\n",
       "      <td>1956 Q3</td>\n",
       "      <td>227</td>\n",
       "      <td>5297.0</td>\n",
       "      <td>208.0</td>\n",
       "      <td>561</td>\n",
       "      <td>4806</td>\n",
       "      <td>7</td>\n",
       "      <td>1956</td>\n",
       "      <td>Q3</td>\n",
       "    </tr>\n",
       "    <tr>\n",
       "      <th>3</th>\n",
       "      <td>1956 Q4</td>\n",
       "      <td>308</td>\n",
       "      <td>5681.0</td>\n",
       "      <td>197.0</td>\n",
       "      <td>570</td>\n",
       "      <td>4418</td>\n",
       "      <td>6</td>\n",
       "      <td>1956</td>\n",
       "      <td>Q4</td>\n",
       "    </tr>\n",
       "    <tr>\n",
       "      <th>4</th>\n",
       "      <td>1957 Q1</td>\n",
       "      <td>262</td>\n",
       "      <td>5577.0</td>\n",
       "      <td>187.0</td>\n",
       "      <td>529</td>\n",
       "      <td>4339</td>\n",
       "      <td>5</td>\n",
       "      <td>1957</td>\n",
       "      <td>Q1</td>\n",
       "    </tr>\n",
       "  </tbody>\n",
       "</table>\n",
       "</div>"
      ],
      "text/plain": [
       "   Quarter  Beer  Tobacco  Bricks  Cement  Electricity  Gas  year   Q\n",
       "0  1956 Q1   284   5225.0   189.0     465         3923    5  1956  Q1\n",
       "1  1956 Q2   213   5178.0   204.0     532         4436    6  1956  Q2\n",
       "2  1956 Q3   227   5297.0   208.0     561         4806    7  1956  Q3\n",
       "3  1956 Q4   308   5681.0   197.0     570         4418    6  1956  Q4\n",
       "4  1957 Q1   262   5577.0   187.0     529         4339    5  1957  Q1"
      ]
     },
     "execution_count": 12,
     "metadata": {},
     "output_type": "execute_result"
    }
   ],
   "source": [
    "df[['year', 'Q']] = df['Quarter'].str.split(' ', expand=True)\n",
    "df['year'] = df['year'].astype(int)\n",
    "df.head()"
   ]
  },
  {
   "cell_type": "code",
   "execution_count": 13,
   "metadata": {},
   "outputs": [
    {
     "name": "stdout",
     "output_type": "stream",
     "text": [
      "<class 'pandas.core.frame.DataFrame'>\n",
      "RangeIndex: 218 entries, 0 to 217\n",
      "Data columns (total 9 columns):\n",
      " #   Column       Non-Null Count  Dtype  \n",
      "---  ------       --------------  -----  \n",
      " 0   Quarter      218 non-null    object \n",
      " 1   Beer         218 non-null    int64  \n",
      " 2   Tobacco      194 non-null    float64\n",
      " 3   Bricks       198 non-null    float64\n",
      " 4   Cement       218 non-null    int64  \n",
      " 5   Electricity  218 non-null    int64  \n",
      " 6   Gas          218 non-null    int64  \n",
      " 7   year         218 non-null    int32  \n",
      " 8   Q            218 non-null    object \n",
      "dtypes: float64(2), int32(1), int64(4), object(2)\n",
      "memory usage: 14.6+ KB\n"
     ]
    }
   ],
   "source": [
    "df.info()"
   ]
  },
  {
   "cell_type": "code",
   "execution_count": 19,
   "metadata": {},
   "outputs": [
    {
     "data": {
      "text/plain": [
       "-0.7697655849135306"
      ]
     },
     "execution_count": 19,
     "metadata": {},
     "output_type": "execute_result"
    }
   ],
   "source": [
    "df[df['year']>=2000]['Beer'].autocorr(lag=6)"
   ]
  },
  {
   "cell_type": "code",
   "execution_count": 22,
   "metadata": {},
   "outputs": [
    {
     "data": {
      "text/plain": [
       "0     421\n",
       "1     402\n",
       "2     414\n",
       "3     500\n",
       "4     451\n",
       "5     380\n",
       "6     416\n",
       "7     492\n",
       "8     428\n",
       "9     408\n",
       "10    406\n",
       "11    506\n",
       "12    435\n",
       "13    380\n",
       "14    421\n",
       "15    490\n",
       "16    435\n",
       "17    390\n",
       "18    412\n",
       "19    454\n",
       "20    416\n",
       "21    403\n",
       "22    408\n",
       "23    482\n",
       "24    438\n",
       "25    386\n",
       "26    405\n",
       "27    491\n",
       "28    427\n",
       "29    383\n",
       "30    394\n",
       "31    473\n",
       "32    420\n",
       "33    390\n",
       "34    410\n",
       "35    488\n",
       "36    415\n",
       "37    398\n",
       "38    419\n",
       "39    488\n",
       "40    414\n",
       "41    374\n",
       "Name: Beer, dtype: int64"
      ]
     },
     "execution_count": 22,
     "metadata": {},
     "output_type": "execute_result"
    }
   ],
   "source": [
    "p = df[df['year']>=2000]['Beer'].reset_index(drop=True)\n",
    "p"
   ]
  },
  {
   "cell_type": "code",
   "execution_count": 24,
   "metadata": {},
   "outputs": [
    {
     "data": {
      "text/html": [
       "<div>\n",
       "<style scoped>\n",
       "    .dataframe tbody tr th:only-of-type {\n",
       "        vertical-align: middle;\n",
       "    }\n",
       "\n",
       "    .dataframe tbody tr th {\n",
       "        vertical-align: top;\n",
       "    }\n",
       "\n",
       "    .dataframe thead th {\n",
       "        text-align: right;\n",
       "    }\n",
       "</style>\n",
       "<table border=\"1\" class=\"dataframe\">\n",
       "  <thead>\n",
       "    <tr style=\"text-align: right;\">\n",
       "      <th></th>\n",
       "      <th>0</th>\n",
       "    </tr>\n",
       "  </thead>\n",
       "  <tbody>\n",
       "    <tr>\n",
       "      <th>0</th>\n",
       "      <td>1.000000</td>\n",
       "    </tr>\n",
       "    <tr>\n",
       "      <th>1</th>\n",
       "      <td>-0.052981</td>\n",
       "    </tr>\n",
       "    <tr>\n",
       "      <th>2</th>\n",
       "      <td>-0.758175</td>\n",
       "    </tr>\n",
       "    <tr>\n",
       "      <th>3</th>\n",
       "      <td>-0.026234</td>\n",
       "    </tr>\n",
       "    <tr>\n",
       "      <th>4</th>\n",
       "      <td>0.802205</td>\n",
       "    </tr>\n",
       "    <tr>\n",
       "      <th>5</th>\n",
       "      <td>-0.077471</td>\n",
       "    </tr>\n",
       "    <tr>\n",
       "      <th>6</th>\n",
       "      <td>-0.657451</td>\n",
       "    </tr>\n",
       "    <tr>\n",
       "      <th>7</th>\n",
       "      <td>0.001195</td>\n",
       "    </tr>\n",
       "    <tr>\n",
       "      <th>8</th>\n",
       "      <td>0.707254</td>\n",
       "    </tr>\n",
       "    <tr>\n",
       "      <th>9</th>\n",
       "      <td>-0.088756</td>\n",
       "    </tr>\n",
       "  </tbody>\n",
       "</table>\n",
       "</div>"
      ],
      "text/plain": [
       "          0\n",
       "0  1.000000\n",
       "1 -0.052981\n",
       "2 -0.758175\n",
       "3 -0.026234\n",
       "4  0.802205\n",
       "5 -0.077471\n",
       "6 -0.657451\n",
       "7  0.001195\n",
       "8  0.707254\n",
       "9 -0.088756"
      ]
     },
     "execution_count": 24,
     "metadata": {},
     "output_type": "execute_result"
    }
   ],
   "source": [
    "import statsmodels.api as sm\n",
    "p = df[df['year']>=2000]['Beer'].reset_index(drop=True)\n",
    "acf = sm.tsa.acf(p, nlags=9)\n",
    "pd.DataFrame(acf)"
   ]
  }
 ],
 "metadata": {
  "kernelspec": {
   "display_name": "Python 3",
   "language": "python",
   "name": "python3"
  },
  "language_info": {
   "codemirror_mode": {
    "name": "ipython",
    "version": 3
   },
   "file_extension": ".py",
   "mimetype": "text/x-python",
   "name": "python",
   "nbconvert_exporter": "python",
   "pygments_lexer": "ipython3",
   "version": "3.12.2"
  }
 },
 "nbformat": 4,
 "nbformat_minor": 2
}
